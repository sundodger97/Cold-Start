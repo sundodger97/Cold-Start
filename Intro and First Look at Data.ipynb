{
 "cells": [
  {
   "cell_type": "markdown",
   "metadata": {},
   "source": [
    "\n",
    "### Problem Description\n",
    "\n",
    "from https://www.drivendata.org/competitions/55/schneider-cold-start/page/111/\n",
    "\n",
    "\"The objective of this competition is to forecast energy consumption from varying amounts of \"cold start\" data, and little other building information. That means that for each building in the test set you are given a small amount of data and then asked to predict into the future.\"\n",
    "\n"
   ]
  },
  {
   "cell_type": "markdown",
   "metadata": {},
   "source": [
    "Basically, we are supposed to predict energy usage at various time scales for a wide variety of buildings and energy use profiles. We are given some metadata about buildings as well as some energy usage data and the outside temperature (sometimes)."
   ]
  },
  {
   "cell_type": "markdown",
   "metadata": {},
   "source": [
    "![test](images/mlscheme.png)"
   ]
  },
  {
   "cell_type": "markdown",
   "metadata": {},
   "source": [
    "### First Look at Data"
   ]
  },
  {
   "cell_type": "code",
   "execution_count": 2,
   "metadata": {},
   "outputs": [],
   "source": [
    "import pandas as pd\n",
    "import numpy as np"
   ]
  },
  {
   "cell_type": "code",
   "execution_count": 3,
   "metadata": {},
   "outputs": [],
   "source": [
    "# building metadata\n",
    "meta = pd.read_csv('data/meta.csv')\n",
    "# building energy consumption\n",
    "consumption = pd.read_csv('data/consumption_train.csv')"
   ]
  },
  {
   "cell_type": "code",
   "execution_count": 4,
   "metadata": {},
   "outputs": [],
   "source": [
    "# test data\n",
    "test = pd.read_csv('data/cold_start_test.csv')\n",
    "\n",
    "submission_format = pd.read_csv('data/submission_format.csv')"
   ]
  },
  {
   "cell_type": "markdown",
   "metadata": {},
   "source": [
    "The meta data will be used in conjunction with the train, test, and submission data sets."
   ]
  },
  {
   "cell_type": "code",
   "execution_count": 4,
   "metadata": {
    "scrolled": true
   },
   "outputs": [
    {
     "data": {
      "text/html": [
       "<div>\n",
       "<style scoped>\n",
       "    .dataframe tbody tr th:only-of-type {\n",
       "        vertical-align: middle;\n",
       "    }\n",
       "\n",
       "    .dataframe tbody tr th {\n",
       "        vertical-align: top;\n",
       "    }\n",
       "\n",
       "    .dataframe thead th {\n",
       "        text-align: right;\n",
       "    }\n",
       "</style>\n",
       "<table border=\"1\" class=\"dataframe\">\n",
       "  <thead>\n",
       "    <tr style=\"text-align: right;\">\n",
       "      <th></th>\n",
       "      <th>series_id</th>\n",
       "      <th>surface</th>\n",
       "      <th>base_temperature</th>\n",
       "      <th>monday_is_day_off</th>\n",
       "      <th>tuesday_is_day_off</th>\n",
       "      <th>wednesday_is_day_off</th>\n",
       "      <th>thursday_is_day_off</th>\n",
       "      <th>friday_is_day_off</th>\n",
       "      <th>saturday_is_day_off</th>\n",
       "      <th>sunday_is_day_off</th>\n",
       "    </tr>\n",
       "  </thead>\n",
       "  <tbody>\n",
       "    <tr>\n",
       "      <th>0</th>\n",
       "      <td>100003</td>\n",
       "      <td>x-large</td>\n",
       "      <td>low</td>\n",
       "      <td>False</td>\n",
       "      <td>False</td>\n",
       "      <td>False</td>\n",
       "      <td>False</td>\n",
       "      <td>False</td>\n",
       "      <td>True</td>\n",
       "      <td>True</td>\n",
       "    </tr>\n",
       "    <tr>\n",
       "      <th>1</th>\n",
       "      <td>100004</td>\n",
       "      <td>x-large</td>\n",
       "      <td>low</td>\n",
       "      <td>False</td>\n",
       "      <td>False</td>\n",
       "      <td>False</td>\n",
       "      <td>False</td>\n",
       "      <td>False</td>\n",
       "      <td>True</td>\n",
       "      <td>True</td>\n",
       "    </tr>\n",
       "    <tr>\n",
       "      <th>2</th>\n",
       "      <td>100006</td>\n",
       "      <td>x-small</td>\n",
       "      <td>low</td>\n",
       "      <td>False</td>\n",
       "      <td>False</td>\n",
       "      <td>False</td>\n",
       "      <td>False</td>\n",
       "      <td>False</td>\n",
       "      <td>True</td>\n",
       "      <td>True</td>\n",
       "    </tr>\n",
       "  </tbody>\n",
       "</table>\n",
       "</div>"
      ],
      "text/plain": [
       "   series_id  surface base_temperature  monday_is_day_off  tuesday_is_day_off  \\\n",
       "0     100003  x-large              low              False               False   \n",
       "1     100004  x-large              low              False               False   \n",
       "2     100006  x-small              low              False               False   \n",
       "\n",
       "   wednesday_is_day_off  thursday_is_day_off  friday_is_day_off  \\\n",
       "0                 False                False              False   \n",
       "1                 False                False              False   \n",
       "2                 False                False              False   \n",
       "\n",
       "   saturday_is_day_off  sunday_is_day_off  \n",
       "0                 True               True  \n",
       "1                 True               True  \n",
       "2                 True               True  "
      ]
     },
     "execution_count": 4,
     "metadata": {},
     "output_type": "execute_result"
    }
   ],
   "source": [
    "meta.head(3)"
   ]
  },
  {
   "cell_type": "code",
   "execution_count": 5,
   "metadata": {},
   "outputs": [
    {
     "name": "stdout",
     "output_type": "stream",
     "text": [
      "<class 'pandas.core.frame.DataFrame'>\n",
      "RangeIndex: 1383 entries, 0 to 1382\n",
      "Data columns (total 10 columns):\n",
      "series_id               1383 non-null int64\n",
      "surface                 1383 non-null object\n",
      "base_temperature        1383 non-null object\n",
      "monday_is_day_off       1383 non-null bool\n",
      "tuesday_is_day_off      1383 non-null bool\n",
      "wednesday_is_day_off    1383 non-null bool\n",
      "thursday_is_day_off     1383 non-null bool\n",
      "friday_is_day_off       1383 non-null bool\n",
      "saturday_is_day_off     1383 non-null bool\n",
      "sunday_is_day_off       1383 non-null bool\n",
      "dtypes: bool(7), int64(1), object(2)\n",
      "memory usage: 41.9+ KB\n"
     ]
    }
   ],
   "source": [
    "meta.info()"
   ]
  },
  {
   "cell_type": "markdown",
   "metadata": {},
   "source": [
    "The consumption data is the training data set for any predictive model we create."
   ]
  },
  {
   "cell_type": "code",
   "execution_count": 6,
   "metadata": {},
   "outputs": [
    {
     "data": {
      "text/html": [
       "<div>\n",
       "<style scoped>\n",
       "    .dataframe tbody tr th:only-of-type {\n",
       "        vertical-align: middle;\n",
       "    }\n",
       "\n",
       "    .dataframe tbody tr th {\n",
       "        vertical-align: top;\n",
       "    }\n",
       "\n",
       "    .dataframe thead th {\n",
       "        text-align: right;\n",
       "    }\n",
       "</style>\n",
       "<table border=\"1\" class=\"dataframe\">\n",
       "  <thead>\n",
       "    <tr style=\"text-align: right;\">\n",
       "      <th></th>\n",
       "      <th>Unnamed: 0</th>\n",
       "      <th>series_id</th>\n",
       "      <th>timestamp</th>\n",
       "      <th>consumption</th>\n",
       "      <th>temperature</th>\n",
       "    </tr>\n",
       "  </thead>\n",
       "  <tbody>\n",
       "    <tr>\n",
       "      <th>0</th>\n",
       "      <td>0</td>\n",
       "      <td>103088</td>\n",
       "      <td>2014-12-24 00:00:00</td>\n",
       "      <td>101842.233424</td>\n",
       "      <td>NaN</td>\n",
       "    </tr>\n",
       "    <tr>\n",
       "      <th>1</th>\n",
       "      <td>1</td>\n",
       "      <td>103088</td>\n",
       "      <td>2014-12-24 01:00:00</td>\n",
       "      <td>105878.048906</td>\n",
       "      <td>NaN</td>\n",
       "    </tr>\n",
       "    <tr>\n",
       "      <th>2</th>\n",
       "      <td>2</td>\n",
       "      <td>103088</td>\n",
       "      <td>2014-12-24 02:00:00</td>\n",
       "      <td>91619.105008</td>\n",
       "      <td>NaN</td>\n",
       "    </tr>\n",
       "  </tbody>\n",
       "</table>\n",
       "</div>"
      ],
      "text/plain": [
       "   Unnamed: 0  series_id            timestamp    consumption  temperature\n",
       "0           0     103088  2014-12-24 00:00:00  101842.233424          NaN\n",
       "1           1     103088  2014-12-24 01:00:00  105878.048906          NaN\n",
       "2           2     103088  2014-12-24 02:00:00   91619.105008          NaN"
      ]
     },
     "execution_count": 6,
     "metadata": {},
     "output_type": "execute_result"
    }
   ],
   "source": [
    "consumption.head(3)"
   ]
  },
  {
   "cell_type": "markdown",
   "metadata": {},
   "source": [
    "The timestamp data looks like a datetime, but is actually a string."
   ]
  },
  {
   "cell_type": "code",
   "execution_count": 7,
   "metadata": {},
   "outputs": [
    {
     "name": "stdout",
     "output_type": "stream",
     "text": [
      "<class 'pandas.core.frame.DataFrame'>\n",
      "RangeIndex: 509376 entries, 0 to 509375\n",
      "Data columns (total 5 columns):\n",
      "Unnamed: 0     509376 non-null int64\n",
      "series_id      509376 non-null int64\n",
      "timestamp      509376 non-null object\n",
      "consumption    509376 non-null float64\n",
      "temperature    280687 non-null float64\n",
      "dtypes: float64(2), int64(2), object(1)\n",
      "memory usage: 19.4+ MB\n"
     ]
    }
   ],
   "source": [
    "consumption.info()"
   ]
  },
  {
   "cell_type": "code",
   "execution_count": 6,
   "metadata": {},
   "outputs": [
    {
     "data": {
      "text/html": [
       "<div>\n",
       "<style scoped>\n",
       "    .dataframe tbody tr th:only-of-type {\n",
       "        vertical-align: middle;\n",
       "    }\n",
       "\n",
       "    .dataframe tbody tr th {\n",
       "        vertical-align: top;\n",
       "    }\n",
       "\n",
       "    .dataframe thead th {\n",
       "        text-align: right;\n",
       "    }\n",
       "</style>\n",
       "<table border=\"1\" class=\"dataframe\">\n",
       "  <thead>\n",
       "    <tr style=\"text-align: right;\">\n",
       "      <th></th>\n",
       "      <th>Unnamed: 0</th>\n",
       "      <th>series_id</th>\n",
       "      <th>timestamp</th>\n",
       "      <th>consumption</th>\n",
       "      <th>temperature</th>\n",
       "    </tr>\n",
       "  </thead>\n",
       "  <tbody>\n",
       "    <tr>\n",
       "      <th>0</th>\n",
       "      <td>0</td>\n",
       "      <td>102781</td>\n",
       "      <td>2013-02-27 00:00:00</td>\n",
       "      <td>15295.740389</td>\n",
       "      <td>17.00</td>\n",
       "    </tr>\n",
       "    <tr>\n",
       "      <th>1</th>\n",
       "      <td>1</td>\n",
       "      <td>102781</td>\n",
       "      <td>2013-02-27 01:00:00</td>\n",
       "      <td>15163.209562</td>\n",
       "      <td>18.25</td>\n",
       "    </tr>\n",
       "    <tr>\n",
       "      <th>2</th>\n",
       "      <td>2</td>\n",
       "      <td>102781</td>\n",
       "      <td>2013-02-27 02:00:00</td>\n",
       "      <td>15022.264079</td>\n",
       "      <td>18.00</td>\n",
       "    </tr>\n",
       "  </tbody>\n",
       "</table>\n",
       "</div>"
      ],
      "text/plain": [
       "   Unnamed: 0  series_id            timestamp   consumption  temperature\n",
       "0           0     102781  2013-02-27 00:00:00  15295.740389        17.00\n",
       "1           1     102781  2013-02-27 01:00:00  15163.209562        18.25\n",
       "2           2     102781  2013-02-27 02:00:00  15022.264079        18.00"
      ]
     },
     "execution_count": 6,
     "metadata": {},
     "output_type": "execute_result"
    }
   ],
   "source": [
    "test.head(3)"
   ]
  },
  {
   "cell_type": "code",
   "execution_count": 8,
   "metadata": {},
   "outputs": [
    {
     "name": "stdout",
     "output_type": "stream",
     "text": [
      "<class 'pandas.core.frame.DataFrame'>\n",
      "RangeIndex: 111984 entries, 0 to 111983\n",
      "Data columns (total 5 columns):\n",
      "Unnamed: 0     111984 non-null int64\n",
      "series_id      111984 non-null int64\n",
      "timestamp      111984 non-null object\n",
      "consumption    111984 non-null float64\n",
      "temperature    67068 non-null float64\n",
      "dtypes: float64(2), int64(2), object(1)\n",
      "memory usage: 4.3+ MB\n"
     ]
    }
   ],
   "source": [
    "test.info()"
   ]
  },
  {
   "cell_type": "code",
   "execution_count": 8,
   "metadata": {},
   "outputs": [
    {
     "data": {
      "text/html": [
       "<div>\n",
       "<style scoped>\n",
       "    .dataframe tbody tr th:only-of-type {\n",
       "        vertical-align: middle;\n",
       "    }\n",
       "\n",
       "    .dataframe tbody tr th {\n",
       "        vertical-align: top;\n",
       "    }\n",
       "\n",
       "    .dataframe thead th {\n",
       "        text-align: right;\n",
       "    }\n",
       "</style>\n",
       "<table border=\"1\" class=\"dataframe\">\n",
       "  <thead>\n",
       "    <tr style=\"text-align: right;\">\n",
       "      <th></th>\n",
       "      <th>pred_id</th>\n",
       "      <th>series_id</th>\n",
       "      <th>timestamp</th>\n",
       "      <th>temperature</th>\n",
       "      <th>consumption</th>\n",
       "      <th>prediction_window</th>\n",
       "    </tr>\n",
       "  </thead>\n",
       "  <tbody>\n",
       "    <tr>\n",
       "      <th>0</th>\n",
       "      <td>0</td>\n",
       "      <td>102781</td>\n",
       "      <td>2013-03-03 00:00:00</td>\n",
       "      <td>19.931250</td>\n",
       "      <td>0.0</td>\n",
       "      <td>daily</td>\n",
       "    </tr>\n",
       "    <tr>\n",
       "      <th>1</th>\n",
       "      <td>1</td>\n",
       "      <td>102781</td>\n",
       "      <td>2013-03-04 00:00:00</td>\n",
       "      <td>20.034375</td>\n",
       "      <td>0.0</td>\n",
       "      <td>daily</td>\n",
       "    </tr>\n",
       "    <tr>\n",
       "      <th>2</th>\n",
       "      <td>2</td>\n",
       "      <td>102781</td>\n",
       "      <td>2013-03-05 00:00:00</td>\n",
       "      <td>19.189583</td>\n",
       "      <td>0.0</td>\n",
       "      <td>daily</td>\n",
       "    </tr>\n",
       "    <tr>\n",
       "      <th>3</th>\n",
       "      <td>3</td>\n",
       "      <td>102781</td>\n",
       "      <td>2013-03-06 00:00:00</td>\n",
       "      <td>18.397917</td>\n",
       "      <td>0.0</td>\n",
       "      <td>daily</td>\n",
       "    </tr>\n",
       "    <tr>\n",
       "      <th>4</th>\n",
       "      <td>4</td>\n",
       "      <td>102781</td>\n",
       "      <td>2013-03-07 00:00:00</td>\n",
       "      <td>20.762500</td>\n",
       "      <td>0.0</td>\n",
       "      <td>daily</td>\n",
       "    </tr>\n",
       "    <tr>\n",
       "      <th>5</th>\n",
       "      <td>5</td>\n",
       "      <td>102781</td>\n",
       "      <td>2013-03-08 00:00:00</td>\n",
       "      <td>19.800000</td>\n",
       "      <td>0.0</td>\n",
       "      <td>daily</td>\n",
       "    </tr>\n",
       "    <tr>\n",
       "      <th>6</th>\n",
       "      <td>6</td>\n",
       "      <td>102781</td>\n",
       "      <td>2013-03-09 00:00:00</td>\n",
       "      <td>20.466667</td>\n",
       "      <td>0.0</td>\n",
       "      <td>daily</td>\n",
       "    </tr>\n",
       "    <tr>\n",
       "      <th>7</th>\n",
       "      <td>7</td>\n",
       "      <td>103342</td>\n",
       "      <td>2013-06-26 00:00:00</td>\n",
       "      <td>10.486607</td>\n",
       "      <td>0.0</td>\n",
       "      <td>weekly</td>\n",
       "    </tr>\n",
       "    <tr>\n",
       "      <th>8</th>\n",
       "      <td>8</td>\n",
       "      <td>103342</td>\n",
       "      <td>2013-07-03 00:00:00</td>\n",
       "      <td>10.006548</td>\n",
       "      <td>0.0</td>\n",
       "      <td>weekly</td>\n",
       "    </tr>\n",
       "    <tr>\n",
       "      <th>9</th>\n",
       "      <td>9</td>\n",
       "      <td>102969</td>\n",
       "      <td>2013-12-15 00:00:00</td>\n",
       "      <td>20.214583</td>\n",
       "      <td>0.0</td>\n",
       "      <td>daily</td>\n",
       "    </tr>\n",
       "  </tbody>\n",
       "</table>\n",
       "</div>"
      ],
      "text/plain": [
       "   pred_id  series_id            timestamp  temperature  consumption  \\\n",
       "0        0     102781  2013-03-03 00:00:00    19.931250          0.0   \n",
       "1        1     102781  2013-03-04 00:00:00    20.034375          0.0   \n",
       "2        2     102781  2013-03-05 00:00:00    19.189583          0.0   \n",
       "3        3     102781  2013-03-06 00:00:00    18.397917          0.0   \n",
       "4        4     102781  2013-03-07 00:00:00    20.762500          0.0   \n",
       "5        5     102781  2013-03-08 00:00:00    19.800000          0.0   \n",
       "6        6     102781  2013-03-09 00:00:00    20.466667          0.0   \n",
       "7        7     103342  2013-06-26 00:00:00    10.486607          0.0   \n",
       "8        8     103342  2013-07-03 00:00:00    10.006548          0.0   \n",
       "9        9     102969  2013-12-15 00:00:00    20.214583          0.0   \n",
       "\n",
       "  prediction_window  \n",
       "0             daily  \n",
       "1             daily  \n",
       "2             daily  \n",
       "3             daily  \n",
       "4             daily  \n",
       "5             daily  \n",
       "6             daily  \n",
       "7            weekly  \n",
       "8            weekly  \n",
       "9             daily  "
      ]
     },
     "execution_count": 8,
     "metadata": {},
     "output_type": "execute_result"
    }
   ],
   "source": [
    "submission_format.head(10)"
   ]
  },
  {
   "cell_type": "code",
   "execution_count": 9,
   "metadata": {},
   "outputs": [
    {
     "name": "stdout",
     "output_type": "stream",
     "text": [
      "<class 'pandas.core.frame.DataFrame'>\n",
      "RangeIndex: 7529 entries, 0 to 7528\n",
      "Data columns (total 6 columns):\n",
      "pred_id              7529 non-null int64\n",
      "series_id            7529 non-null int64\n",
      "timestamp            7529 non-null object\n",
      "temperature          4579 non-null float64\n",
      "consumption          7529 non-null float64\n",
      "prediction_window    7529 non-null object\n",
      "dtypes: float64(2), int64(2), object(2)\n",
      "memory usage: 353.0+ KB\n"
     ]
    }
   ],
   "source": [
    "submission_format.info()"
   ]
  },
  {
   "cell_type": "markdown",
   "metadata": {},
   "source": [
    "We are expected to make predictions on the time scale indicated in the submission_format data, using the temperature and consumption data. Let's take a look at all the data associated with series_id 102781 (the first series id of the submission_format data)."
   ]
  },
  {
   "cell_type": "code",
   "execution_count": 9,
   "metadata": {},
   "outputs": [
    {
     "data": {
      "text/html": [
       "<div>\n",
       "<style scoped>\n",
       "    .dataframe tbody tr th:only-of-type {\n",
       "        vertical-align: middle;\n",
       "    }\n",
       "\n",
       "    .dataframe tbody tr th {\n",
       "        vertical-align: top;\n",
       "    }\n",
       "\n",
       "    .dataframe thead th {\n",
       "        text-align: right;\n",
       "    }\n",
       "</style>\n",
       "<table border=\"1\" class=\"dataframe\">\n",
       "  <thead>\n",
       "    <tr style=\"text-align: right;\">\n",
       "      <th></th>\n",
       "      <th>series_id</th>\n",
       "      <th>surface</th>\n",
       "      <th>base_temperature</th>\n",
       "      <th>monday_is_day_off</th>\n",
       "      <th>tuesday_is_day_off</th>\n",
       "      <th>wednesday_is_day_off</th>\n",
       "      <th>thursday_is_day_off</th>\n",
       "      <th>friday_is_day_off</th>\n",
       "      <th>saturday_is_day_off</th>\n",
       "      <th>sunday_is_day_off</th>\n",
       "    </tr>\n",
       "  </thead>\n",
       "  <tbody>\n",
       "    <tr>\n",
       "      <th>1042</th>\n",
       "      <td>102781</td>\n",
       "      <td>large</td>\n",
       "      <td>low</td>\n",
       "      <td>False</td>\n",
       "      <td>False</td>\n",
       "      <td>False</td>\n",
       "      <td>False</td>\n",
       "      <td>False</td>\n",
       "      <td>True</td>\n",
       "      <td>True</td>\n",
       "    </tr>\n",
       "  </tbody>\n",
       "</table>\n",
       "</div>"
      ],
      "text/plain": [
       "      series_id surface base_temperature  monday_is_day_off  \\\n",
       "1042     102781   large              low              False   \n",
       "\n",
       "      tuesday_is_day_off  wednesday_is_day_off  thursday_is_day_off  \\\n",
       "1042               False                 False                False   \n",
       "\n",
       "      friday_is_day_off  saturday_is_day_off  sunday_is_day_off  \n",
       "1042              False                 True               True  "
      ]
     },
     "execution_count": 9,
     "metadata": {},
     "output_type": "execute_result"
    }
   ],
   "source": [
    "meta[meta.series_id==102781]"
   ]
  },
  {
   "cell_type": "code",
   "execution_count": 12,
   "metadata": {},
   "outputs": [
    {
     "data": {
      "text/html": [
       "<div>\n",
       "<style scoped>\n",
       "    .dataframe tbody tr th:only-of-type {\n",
       "        vertical-align: middle;\n",
       "    }\n",
       "\n",
       "    .dataframe tbody tr th {\n",
       "        vertical-align: top;\n",
       "    }\n",
       "\n",
       "    .dataframe thead th {\n",
       "        text-align: right;\n",
       "    }\n",
       "</style>\n",
       "<table border=\"1\" class=\"dataframe\">\n",
       "  <thead>\n",
       "    <tr style=\"text-align: right;\">\n",
       "      <th></th>\n",
       "      <th>Unnamed: 0</th>\n",
       "      <th>series_id</th>\n",
       "      <th>timestamp</th>\n",
       "      <th>consumption</th>\n",
       "      <th>temperature</th>\n",
       "    </tr>\n",
       "  </thead>\n",
       "  <tbody>\n",
       "    <tr>\n",
       "      <th>0</th>\n",
       "      <td>0</td>\n",
       "      <td>102781</td>\n",
       "      <td>2013-02-27 00:00:00</td>\n",
       "      <td>15295.740389</td>\n",
       "      <td>17.00</td>\n",
       "    </tr>\n",
       "    <tr>\n",
       "      <th>1</th>\n",
       "      <td>1</td>\n",
       "      <td>102781</td>\n",
       "      <td>2013-02-27 01:00:00</td>\n",
       "      <td>15163.209562</td>\n",
       "      <td>18.25</td>\n",
       "    </tr>\n",
       "    <tr>\n",
       "      <th>2</th>\n",
       "      <td>2</td>\n",
       "      <td>102781</td>\n",
       "      <td>2013-02-27 02:00:00</td>\n",
       "      <td>15022.264079</td>\n",
       "      <td>18.00</td>\n",
       "    </tr>\n",
       "    <tr>\n",
       "      <th>3</th>\n",
       "      <td>3</td>\n",
       "      <td>102781</td>\n",
       "      <td>2013-02-27 03:00:00</td>\n",
       "      <td>15370.420458</td>\n",
       "      <td>17.00</td>\n",
       "    </tr>\n",
       "    <tr>\n",
       "      <th>4</th>\n",
       "      <td>4</td>\n",
       "      <td>102781</td>\n",
       "      <td>2013-02-27 04:00:00</td>\n",
       "      <td>15303.103213</td>\n",
       "      <td>16.90</td>\n",
       "    </tr>\n",
       "  </tbody>\n",
       "</table>\n",
       "</div>"
      ],
      "text/plain": [
       "   Unnamed: 0  series_id            timestamp   consumption  temperature\n",
       "0           0     102781  2013-02-27 00:00:00  15295.740389        17.00\n",
       "1           1     102781  2013-02-27 01:00:00  15163.209562        18.25\n",
       "2           2     102781  2013-02-27 02:00:00  15022.264079        18.00\n",
       "3           3     102781  2013-02-27 03:00:00  15370.420458        17.00\n",
       "4           4     102781  2013-02-27 04:00:00  15303.103213        16.90"
      ]
     },
     "execution_count": 12,
     "metadata": {},
     "output_type": "execute_result"
    }
   ],
   "source": [
    "test[test.series_id==102781].head(5)"
   ]
  },
  {
   "cell_type": "code",
   "execution_count": 13,
   "metadata": {},
   "outputs": [
    {
     "data": {
      "text/html": [
       "<div>\n",
       "<style scoped>\n",
       "    .dataframe tbody tr th:only-of-type {\n",
       "        vertical-align: middle;\n",
       "    }\n",
       "\n",
       "    .dataframe tbody tr th {\n",
       "        vertical-align: top;\n",
       "    }\n",
       "\n",
       "    .dataframe thead th {\n",
       "        text-align: right;\n",
       "    }\n",
       "</style>\n",
       "<table border=\"1\" class=\"dataframe\">\n",
       "  <thead>\n",
       "    <tr style=\"text-align: right;\">\n",
       "      <th></th>\n",
       "      <th>Unnamed: 0</th>\n",
       "      <th>series_id</th>\n",
       "      <th>timestamp</th>\n",
       "      <th>consumption</th>\n",
       "      <th>temperature</th>\n",
       "    </tr>\n",
       "  </thead>\n",
       "  <tbody>\n",
       "    <tr>\n",
       "      <th>91</th>\n",
       "      <td>91</td>\n",
       "      <td>102781</td>\n",
       "      <td>2013-03-02 19:00:00</td>\n",
       "      <td>16595.804694</td>\n",
       "      <td>21.0</td>\n",
       "    </tr>\n",
       "    <tr>\n",
       "      <th>92</th>\n",
       "      <td>92</td>\n",
       "      <td>102781</td>\n",
       "      <td>2013-03-02 20:00:00</td>\n",
       "      <td>18299.772472</td>\n",
       "      <td>20.0</td>\n",
       "    </tr>\n",
       "    <tr>\n",
       "      <th>93</th>\n",
       "      <td>93</td>\n",
       "      <td>102781</td>\n",
       "      <td>2013-03-02 21:00:00</td>\n",
       "      <td>15130.602771</td>\n",
       "      <td>19.0</td>\n",
       "    </tr>\n",
       "    <tr>\n",
       "      <th>94</th>\n",
       "      <td>94</td>\n",
       "      <td>102781</td>\n",
       "      <td>2013-03-02 22:00:00</td>\n",
       "      <td>14411.149709</td>\n",
       "      <td>18.8</td>\n",
       "    </tr>\n",
       "    <tr>\n",
       "      <th>95</th>\n",
       "      <td>95</td>\n",
       "      <td>102781</td>\n",
       "      <td>2013-03-02 23:00:00</td>\n",
       "      <td>14486.881610</td>\n",
       "      <td>19.0</td>\n",
       "    </tr>\n",
       "  </tbody>\n",
       "</table>\n",
       "</div>"
      ],
      "text/plain": [
       "    Unnamed: 0  series_id            timestamp   consumption  temperature\n",
       "91          91     102781  2013-03-02 19:00:00  16595.804694         21.0\n",
       "92          92     102781  2013-03-02 20:00:00  18299.772472         20.0\n",
       "93          93     102781  2013-03-02 21:00:00  15130.602771         19.0\n",
       "94          94     102781  2013-03-02 22:00:00  14411.149709         18.8\n",
       "95          95     102781  2013-03-02 23:00:00  14486.881610         19.0"
      ]
     },
     "execution_count": 13,
     "metadata": {},
     "output_type": "execute_result"
    }
   ],
   "source": [
    "test[test.series_id==102781].tail(5)"
   ]
  },
  {
   "cell_type": "markdown",
   "metadata": {},
   "source": [
    "So there are 95 consecutive hours of temperature and energy consumption data for this building and we need to predict 6 days of consumption after this time series data. We also know it is a large building with low base temperature and it is off on the weekends."
   ]
  },
  {
   "cell_type": "markdown",
   "metadata": {},
   "source": [
    "It is also important to note that much of the temperature data is missing, in the training, test, and sumbission data:"
   ]
  },
  {
   "cell_type": "code",
   "execution_count": 32,
   "metadata": {},
   "outputs": [
    {
     "data": {
      "text/plain": [
       "0.4489591186078653"
      ]
     },
     "execution_count": 32,
     "metadata": {},
     "output_type": "execute_result"
    }
   ],
   "source": [
    "consumption.temperature.isnull().mean()"
   ]
  },
  {
   "cell_type": "code",
   "execution_count": 31,
   "metadata": {},
   "outputs": [
    {
     "data": {
      "text/plain": [
       "0.40109301328761254"
      ]
     },
     "execution_count": 31,
     "metadata": {},
     "output_type": "execute_result"
    }
   ],
   "source": [
    "test.temperature.isnull().mean()"
   ]
  },
  {
   "cell_type": "code",
   "execution_count": 30,
   "metadata": {},
   "outputs": [
    {
     "data": {
      "text/plain": [
       "0.39181830256342143"
      ]
     },
     "execution_count": 30,
     "metadata": {},
     "output_type": "execute_result"
    }
   ],
   "source": [
    "submission_format.temperature.isnull().mean()"
   ]
  },
  {
   "cell_type": "markdown",
   "metadata": {},
   "source": [
    "That's all for the first look at the data. In the next notebook I'll do some deeper analysis."
   ]
  }
 ],
 "metadata": {
  "kernelspec": {
   "display_name": "Python 3",
   "language": "python",
   "name": "python3"
  },
  "language_info": {
   "codemirror_mode": {
    "name": "ipython",
    "version": 3
   },
   "file_extension": ".py",
   "mimetype": "text/x-python",
   "name": "python",
   "nbconvert_exporter": "python",
   "pygments_lexer": "ipython3",
   "version": "3.6.6"
  }
 },
 "nbformat": 4,
 "nbformat_minor": 2
}
